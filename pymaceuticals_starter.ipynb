{
 "cells": [
  {
   "cell_type": "markdown",
   "metadata": {},
   "source": [
    "## Observations and Insights "
   ]
  },
  {
   "cell_type": "markdown",
   "metadata": {},
   "source": []
  },
  {
   "cell_type": "code",
   "execution_count": 1,
   "metadata": {},
   "outputs": [
    {
     "data": {
      "text/html": [
       "<div>\n",
       "<style scoped>\n",
       "    .dataframe tbody tr th:only-of-type {\n",
       "        vertical-align: middle;\n",
       "    }\n",
       "\n",
       "    .dataframe tbody tr th {\n",
       "        vertical-align: top;\n",
       "    }\n",
       "\n",
       "    .dataframe thead th {\n",
       "        text-align: right;\n",
       "    }\n",
       "</style>\n",
       "<table border=\"1\" class=\"dataframe\">\n",
       "  <thead>\n",
       "    <tr style=\"text-align: right;\">\n",
       "      <th></th>\n",
       "      <th>Mouse ID</th>\n",
       "      <th>Drug Regimen</th>\n",
       "      <th>Sex</th>\n",
       "      <th>Age_months</th>\n",
       "      <th>Weight (g)</th>\n",
       "      <th>Timepoint</th>\n",
       "      <th>Tumor Volume (mm3)</th>\n",
       "      <th>Metastatic Sites</th>\n",
       "    </tr>\n",
       "  </thead>\n",
       "  <tbody>\n",
       "    <tr>\n",
       "      <th>0</th>\n",
       "      <td>k403</td>\n",
       "      <td>Ramicane</td>\n",
       "      <td>Male</td>\n",
       "      <td>21</td>\n",
       "      <td>16</td>\n",
       "      <td>0</td>\n",
       "      <td>45.000000</td>\n",
       "      <td>0</td>\n",
       "    </tr>\n",
       "    <tr>\n",
       "      <th>1</th>\n",
       "      <td>k403</td>\n",
       "      <td>Ramicane</td>\n",
       "      <td>Male</td>\n",
       "      <td>21</td>\n",
       "      <td>16</td>\n",
       "      <td>5</td>\n",
       "      <td>38.825898</td>\n",
       "      <td>0</td>\n",
       "    </tr>\n",
       "    <tr>\n",
       "      <th>2</th>\n",
       "      <td>k403</td>\n",
       "      <td>Ramicane</td>\n",
       "      <td>Male</td>\n",
       "      <td>21</td>\n",
       "      <td>16</td>\n",
       "      <td>10</td>\n",
       "      <td>35.014271</td>\n",
       "      <td>1</td>\n",
       "    </tr>\n",
       "    <tr>\n",
       "      <th>3</th>\n",
       "      <td>k403</td>\n",
       "      <td>Ramicane</td>\n",
       "      <td>Male</td>\n",
       "      <td>21</td>\n",
       "      <td>16</td>\n",
       "      <td>15</td>\n",
       "      <td>34.223992</td>\n",
       "      <td>1</td>\n",
       "    </tr>\n",
       "    <tr>\n",
       "      <th>4</th>\n",
       "      <td>k403</td>\n",
       "      <td>Ramicane</td>\n",
       "      <td>Male</td>\n",
       "      <td>21</td>\n",
       "      <td>16</td>\n",
       "      <td>20</td>\n",
       "      <td>32.997729</td>\n",
       "      <td>1</td>\n",
       "    </tr>\n",
       "  </tbody>\n",
       "</table>\n",
       "</div>"
      ],
      "text/plain": [
       "  Mouse ID Drug Regimen   Sex  Age_months  Weight (g)  Timepoint  \\\n",
       "0     k403     Ramicane  Male          21          16          0   \n",
       "1     k403     Ramicane  Male          21          16          5   \n",
       "2     k403     Ramicane  Male          21          16         10   \n",
       "3     k403     Ramicane  Male          21          16         15   \n",
       "4     k403     Ramicane  Male          21          16         20   \n",
       "\n",
       "   Tumor Volume (mm3)  Metastatic Sites  \n",
       "0           45.000000                 0  \n",
       "1           38.825898                 0  \n",
       "2           35.014271                 1  \n",
       "3           34.223992                 1  \n",
       "4           32.997729                 1  "
      ]
     },
     "execution_count": 1,
     "metadata": {},
     "output_type": "execute_result"
    }
   ],
   "source": [
    "# Dependencies and Setup\n",
    "import matplotlib.pyplot as plt\n",
    "import pandas as pd\n",
    "import scipy.stats as st\n",
    "import numpy as np\n",
    "\n",
    "# Study data files\n",
    "mouse_metadata_path = \"data/Mouse_metadata.csv\"\n",
    "study_results_path = \"data/Study_results.csv\"\n",
    "\n",
    "# Read the mouse data and the study results\n",
    "mouse_metadata = pd.read_csv(mouse_metadata_path)\n",
    "study_results = pd.read_csv(study_results_path)\n",
    "\n",
    "# Combine the data into a single dataset\n",
    "data=pd.merge(mouse_metadata,study_results,\n",
    "             how='left',\n",
    "            on='Mouse ID')\n",
    "\n",
    "# Display the data table for preview\n",
    "data.head()"
   ]
  },
  {
   "cell_type": "code",
   "execution_count": 2,
   "metadata": {},
   "outputs": [
    {
     "data": {
      "text/plain": [
       "249"
      ]
     },
     "execution_count": 2,
     "metadata": {},
     "output_type": "execute_result"
    }
   ],
   "source": [
    "# Checking the number of mice.\n",
    "len(data[\"Mouse ID\"].unique())"
   ]
  },
  {
   "cell_type": "code",
   "execution_count": 3,
   "metadata": {},
   "outputs": [
    {
     "name": "stdout",
     "output_type": "stream",
     "text": [
      "['g989']\n"
     ]
    }
   ],
   "source": [
    "# Getting the duplicate mice by ID number that shows up for Mouse ID and Timepoint. \n",
    "duplicate = data[data.duplicated([\"Mouse ID\", \"Timepoint\"], keep=\"first\")]\n",
    "print(duplicate[\"Mouse ID\"].unique())"
   ]
  },
  {
   "cell_type": "code",
   "execution_count": 4,
   "metadata": {},
   "outputs": [
    {
     "data": {
      "text/html": [
       "<div>\n",
       "<style scoped>\n",
       "    .dataframe tbody tr th:only-of-type {\n",
       "        vertical-align: middle;\n",
       "    }\n",
       "\n",
       "    .dataframe tbody tr th {\n",
       "        vertical-align: top;\n",
       "    }\n",
       "\n",
       "    .dataframe thead th {\n",
       "        text-align: right;\n",
       "    }\n",
       "</style>\n",
       "<table border=\"1\" class=\"dataframe\">\n",
       "  <thead>\n",
       "    <tr style=\"text-align: right;\">\n",
       "      <th></th>\n",
       "      <th>Mouse ID</th>\n",
       "      <th>Drug Regimen</th>\n",
       "      <th>Sex</th>\n",
       "      <th>Age_months</th>\n",
       "      <th>Weight (g)</th>\n",
       "      <th>Timepoint</th>\n",
       "      <th>Tumor Volume (mm3)</th>\n",
       "      <th>Metastatic Sites</th>\n",
       "    </tr>\n",
       "  </thead>\n",
       "  <tbody>\n",
       "    <tr>\n",
       "      <th>909</th>\n",
       "      <td>g989</td>\n",
       "      <td>Propriva</td>\n",
       "      <td>Female</td>\n",
       "      <td>21</td>\n",
       "      <td>26</td>\n",
       "      <td>0</td>\n",
       "      <td>45.000000</td>\n",
       "      <td>0</td>\n",
       "    </tr>\n",
       "    <tr>\n",
       "      <th>911</th>\n",
       "      <td>g989</td>\n",
       "      <td>Propriva</td>\n",
       "      <td>Female</td>\n",
       "      <td>21</td>\n",
       "      <td>26</td>\n",
       "      <td>5</td>\n",
       "      <td>47.570392</td>\n",
       "      <td>0</td>\n",
       "    </tr>\n",
       "    <tr>\n",
       "      <th>913</th>\n",
       "      <td>g989</td>\n",
       "      <td>Propriva</td>\n",
       "      <td>Female</td>\n",
       "      <td>21</td>\n",
       "      <td>26</td>\n",
       "      <td>10</td>\n",
       "      <td>49.880528</td>\n",
       "      <td>0</td>\n",
       "    </tr>\n",
       "    <tr>\n",
       "      <th>915</th>\n",
       "      <td>g989</td>\n",
       "      <td>Propriva</td>\n",
       "      <td>Female</td>\n",
       "      <td>21</td>\n",
       "      <td>26</td>\n",
       "      <td>15</td>\n",
       "      <td>53.442020</td>\n",
       "      <td>0</td>\n",
       "    </tr>\n",
       "    <tr>\n",
       "      <th>917</th>\n",
       "      <td>g989</td>\n",
       "      <td>Propriva</td>\n",
       "      <td>Female</td>\n",
       "      <td>21</td>\n",
       "      <td>26</td>\n",
       "      <td>20</td>\n",
       "      <td>54.657650</td>\n",
       "      <td>1</td>\n",
       "    </tr>\n",
       "  </tbody>\n",
       "</table>\n",
       "</div>"
      ],
      "text/plain": [
       "    Mouse ID Drug Regimen     Sex  Age_months  Weight (g)  Timepoint  \\\n",
       "909     g989     Propriva  Female          21          26          0   \n",
       "911     g989     Propriva  Female          21          26          5   \n",
       "913     g989     Propriva  Female          21          26         10   \n",
       "915     g989     Propriva  Female          21          26         15   \n",
       "917     g989     Propriva  Female          21          26         20   \n",
       "\n",
       "     Tumor Volume (mm3)  Metastatic Sites  \n",
       "909           45.000000                 0  \n",
       "911           47.570392                 0  \n",
       "913           49.880528                 0  \n",
       "915           53.442020                 0  \n",
       "917           54.657650                 1  "
      ]
     },
     "execution_count": 4,
     "metadata": {},
     "output_type": "execute_result"
    }
   ],
   "source": [
    "# Optional: Get all the data for the duplicate mouse ID. \n",
    "duplicate.head()"
   ]
  },
  {
   "cell_type": "code",
   "execution_count": 5,
   "metadata": {},
   "outputs": [
    {
     "name": "stdout",
     "output_type": "stream",
     "text": [
      "     Mouse ID Drug Regimen   Sex  Age_months  Weight (g)  Timepoint  \\\n",
      "0        k403     Ramicane  Male          21          16          0   \n",
      "1        k403     Ramicane  Male          21          16          5   \n",
      "2        k403     Ramicane  Male          21          16         10   \n",
      "3        k403     Ramicane  Male          21          16         15   \n",
      "4        k403     Ramicane  Male          21          16         20   \n",
      "...       ...          ...   ...         ...         ...        ...   \n",
      "1888     z969     Naftisol  Male           9          30         25   \n",
      "1889     z969     Naftisol  Male           9          30         30   \n",
      "1890     z969     Naftisol  Male           9          30         35   \n",
      "1891     z969     Naftisol  Male           9          30         40   \n",
      "1892     z969     Naftisol  Male           9          30         45   \n",
      "\n",
      "      Tumor Volume (mm3)  Metastatic Sites  \n",
      "0              45.000000                 0  \n",
      "1              38.825898                 0  \n",
      "2              35.014271                 1  \n",
      "3              34.223992                 1  \n",
      "4              32.997729                 1  \n",
      "...                  ...               ...  \n",
      "1888           63.145652                 2  \n",
      "1889           65.841013                 3  \n",
      "1890           69.176246                 4  \n",
      "1891           70.314904                 4  \n",
      "1892           73.867845                 4  \n",
      "\n",
      "[1880 rows x 8 columns]\n"
     ]
    }
   ],
   "source": [
    "# Create a clean DataFrame by dropping the duplicate mouse by its ID.\n",
    "data = pd.DataFrame(data)\n",
    "\n",
    "# print(data)\n",
    "\n",
    "data = data[data[\"Mouse ID\"] != 'g989']\n",
    "\n",
    "print(data)\n"
   ]
  },
  {
   "cell_type": "code",
   "execution_count": 6,
   "metadata": {},
   "outputs": [
    {
     "data": {
      "text/plain": [
       "248"
      ]
     },
     "execution_count": 6,
     "metadata": {},
     "output_type": "execute_result"
    }
   ],
   "source": [
    "# Checking the number of mice in the clean DataFrame.\n",
    "len(data[\"Mouse ID\"].unique())"
   ]
  },
  {
   "cell_type": "markdown",
   "metadata": {},
   "source": [
    "## Summary Statistics"
   ]
  },
  {
   "cell_type": "code",
   "execution_count": 7,
   "metadata": {},
   "outputs": [
    {
     "data": {
      "text/html": [
       "<div>\n",
       "<style scoped>\n",
       "    .dataframe tbody tr th:only-of-type {\n",
       "        vertical-align: middle;\n",
       "    }\n",
       "\n",
       "    .dataframe tbody tr th {\n",
       "        vertical-align: top;\n",
       "    }\n",
       "\n",
       "    .dataframe thead th {\n",
       "        text-align: right;\n",
       "    }\n",
       "</style>\n",
       "<table border=\"1\" class=\"dataframe\">\n",
       "  <thead>\n",
       "    <tr style=\"text-align: right;\">\n",
       "      <th></th>\n",
       "      <th>Age_months</th>\n",
       "      <th>Weight (g)</th>\n",
       "      <th>Timepoint</th>\n",
       "      <th>Tumor Volume (mm3)</th>\n",
       "      <th>Metastatic Sites</th>\n",
       "    </tr>\n",
       "  </thead>\n",
       "  <tbody>\n",
       "    <tr>\n",
       "      <th>count</th>\n",
       "      <td>1880.000000</td>\n",
       "      <td>1880.000000</td>\n",
       "      <td>1880.000000</td>\n",
       "      <td>1880.000000</td>\n",
       "      <td>1880.000000</td>\n",
       "    </tr>\n",
       "    <tr>\n",
       "      <th>mean</th>\n",
       "      <td>12.757979</td>\n",
       "      <td>25.660106</td>\n",
       "      <td>19.606383</td>\n",
       "      <td>50.435293</td>\n",
       "      <td>1.025000</td>\n",
       "    </tr>\n",
       "    <tr>\n",
       "      <th>std</th>\n",
       "      <td>7.181998</td>\n",
       "      <td>3.935064</td>\n",
       "      <td>14.094238</td>\n",
       "      <td>8.914197</td>\n",
       "      <td>1.139971</td>\n",
       "    </tr>\n",
       "    <tr>\n",
       "      <th>min</th>\n",
       "      <td>1.000000</td>\n",
       "      <td>15.000000</td>\n",
       "      <td>0.000000</td>\n",
       "      <td>22.050126</td>\n",
       "      <td>0.000000</td>\n",
       "    </tr>\n",
       "    <tr>\n",
       "      <th>25%</th>\n",
       "      <td>7.000000</td>\n",
       "      <td>25.000000</td>\n",
       "      <td>5.000000</td>\n",
       "      <td>45.000000</td>\n",
       "      <td>0.000000</td>\n",
       "    </tr>\n",
       "    <tr>\n",
       "      <th>50%</th>\n",
       "      <td>13.000000</td>\n",
       "      <td>27.000000</td>\n",
       "      <td>20.000000</td>\n",
       "      <td>48.933454</td>\n",
       "      <td>1.000000</td>\n",
       "    </tr>\n",
       "    <tr>\n",
       "      <th>75%</th>\n",
       "      <td>19.250000</td>\n",
       "      <td>29.000000</td>\n",
       "      <td>30.000000</td>\n",
       "      <td>56.324075</td>\n",
       "      <td>2.000000</td>\n",
       "    </tr>\n",
       "    <tr>\n",
       "      <th>max</th>\n",
       "      <td>24.000000</td>\n",
       "      <td>30.000000</td>\n",
       "      <td>45.000000</td>\n",
       "      <td>78.567014</td>\n",
       "      <td>4.000000</td>\n",
       "    </tr>\n",
       "  </tbody>\n",
       "</table>\n",
       "</div>"
      ],
      "text/plain": [
       "        Age_months   Weight (g)    Timepoint  Tumor Volume (mm3)  \\\n",
       "count  1880.000000  1880.000000  1880.000000         1880.000000   \n",
       "mean     12.757979    25.660106    19.606383           50.435293   \n",
       "std       7.181998     3.935064    14.094238            8.914197   \n",
       "min       1.000000    15.000000     0.000000           22.050126   \n",
       "25%       7.000000    25.000000     5.000000           45.000000   \n",
       "50%      13.000000    27.000000    20.000000           48.933454   \n",
       "75%      19.250000    29.000000    30.000000           56.324075   \n",
       "max      24.000000    30.000000    45.000000           78.567014   \n",
       "\n",
       "       Metastatic Sites  \n",
       "count       1880.000000  \n",
       "mean           1.025000  \n",
       "std            1.139971  \n",
       "min            0.000000  \n",
       "25%            0.000000  \n",
       "50%            1.000000  \n",
       "75%            2.000000  \n",
       "max            4.000000  "
      ]
     },
     "execution_count": 7,
     "metadata": {},
     "output_type": "execute_result"
    }
   ],
   "source": [
    "# Generate a summary statistics table of mean, median, variance, standard deviation, and SEM of the tumor volume for each regimen\n",
    "data.describe()\n",
    "\n"
   ]
  },
  {
   "cell_type": "code",
   "execution_count": 8,
   "metadata": {},
   "outputs": [
    {
     "data": {
      "text/html": [
       "<div>\n",
       "<style scoped>\n",
       "    .dataframe tbody tr th:only-of-type {\n",
       "        vertical-align: middle;\n",
       "    }\n",
       "\n",
       "    .dataframe tbody tr th {\n",
       "        vertical-align: top;\n",
       "    }\n",
       "\n",
       "    .dataframe thead th {\n",
       "        text-align: right;\n",
       "    }\n",
       "</style>\n",
       "<table border=\"1\" class=\"dataframe\">\n",
       "  <thead>\n",
       "    <tr style=\"text-align: right;\">\n",
       "      <th></th>\n",
       "      <th>Mean</th>\n",
       "      <th>Median</th>\n",
       "      <th>Variance</th>\n",
       "      <th>Standard Deviation</th>\n",
       "      <th>SEM</th>\n",
       "    </tr>\n",
       "    <tr>\n",
       "      <th>Drug Regimen</th>\n",
       "      <th></th>\n",
       "      <th></th>\n",
       "      <th></th>\n",
       "      <th></th>\n",
       "      <th></th>\n",
       "    </tr>\n",
       "  </thead>\n",
       "  <tbody>\n",
       "    <tr>\n",
       "      <th>Capomulin</th>\n",
       "      <td>40.675741</td>\n",
       "      <td>41.557809</td>\n",
       "      <td>24.947764</td>\n",
       "      <td>4.994774</td>\n",
       "      <td>0.329346</td>\n",
       "    </tr>\n",
       "    <tr>\n",
       "      <th>Ceftamin</th>\n",
       "      <td>52.591172</td>\n",
       "      <td>51.776157</td>\n",
       "      <td>39.290177</td>\n",
       "      <td>6.268188</td>\n",
       "      <td>0.469821</td>\n",
       "    </tr>\n",
       "    <tr>\n",
       "      <th>Infubinol</th>\n",
       "      <td>52.884795</td>\n",
       "      <td>51.820584</td>\n",
       "      <td>43.128684</td>\n",
       "      <td>6.567243</td>\n",
       "      <td>0.492236</td>\n",
       "    </tr>\n",
       "    <tr>\n",
       "      <th>Ketapril</th>\n",
       "      <td>55.235638</td>\n",
       "      <td>53.698743</td>\n",
       "      <td>68.553577</td>\n",
       "      <td>8.279709</td>\n",
       "      <td>0.603860</td>\n",
       "    </tr>\n",
       "    <tr>\n",
       "      <th>Naftisol</th>\n",
       "      <td>54.331565</td>\n",
       "      <td>52.509285</td>\n",
       "      <td>66.173479</td>\n",
       "      <td>8.134708</td>\n",
       "      <td>0.596466</td>\n",
       "    </tr>\n",
       "  </tbody>\n",
       "</table>\n",
       "</div>"
      ],
      "text/plain": [
       "                   Mean     Median   Variance  Standard Deviation       SEM\n",
       "Drug Regimen                                                               \n",
       "Capomulin     40.675741  41.557809  24.947764            4.994774  0.329346\n",
       "Ceftamin      52.591172  51.776157  39.290177            6.268188  0.469821\n",
       "Infubinol     52.884795  51.820584  43.128684            6.567243  0.492236\n",
       "Ketapril      55.235638  53.698743  68.553577            8.279709  0.603860\n",
       "Naftisol      54.331565  52.509285  66.173479            8.134708  0.596466"
      ]
     },
     "execution_count": 8,
     "metadata": {},
     "output_type": "execute_result"
    }
   ],
   "source": [
    "# Use groupby and summary statistical methods to calculate the following properties of each drug regimen: \n",
    "# mean, median, variance, standard deviation, and SEM of the tumor volume. \n",
    "# Assemble the resulting series into a single summary dataframe.\n",
    "\n",
    "\n",
    "tumor_mean = data.groupby(['Drug Regimen']).mean()['Tumor Volume (mm3)']\n",
    "tumor_median = data.groupby(['Drug Regimen']).median()['Tumor Volume (mm3)']\n",
    "tumor_var = data.groupby(['Drug Regimen']).var()['Tumor Volume (mm3)']\n",
    "tumor_std = data.groupby(['Drug Regimen']).std()['Tumor Volume (mm3)']\n",
    "tumor_sem = data.groupby(['Drug Regimen']).sem()['Tumor Volume (mm3)']\n",
    "\n",
    "tumor_stats = pd.DataFrame({'Mean': tumor_mean, \n",
    "                           'Median': tumor_median,\n",
    "                          'Variance': tumor_var,\n",
    "                          'Standard Deviation': tumor_std,\n",
    "                          'SEM': tumor_sem})\n",
    "\n",
    "# Generate a summary statistics table of mean, median, variance, standard deviation, and SEM of the tumor volume for each regimen\n",
    "tumor_stats.head()"
   ]
  },
  {
   "cell_type": "code",
   "execution_count": 9,
   "metadata": {},
   "outputs": [
    {
     "data": {
      "text/html": [
       "<div>\n",
       "<style scoped>\n",
       "    .dataframe tbody tr th:only-of-type {\n",
       "        vertical-align: middle;\n",
       "    }\n",
       "\n",
       "    .dataframe tbody tr th {\n",
       "        vertical-align: top;\n",
       "    }\n",
       "\n",
       "    .dataframe thead tr th {\n",
       "        text-align: left;\n",
       "    }\n",
       "\n",
       "    .dataframe thead tr:last-of-type th {\n",
       "        text-align: right;\n",
       "    }\n",
       "</style>\n",
       "<table border=\"1\" class=\"dataframe\">\n",
       "  <thead>\n",
       "    <tr>\n",
       "      <th></th>\n",
       "      <th colspan=\"4\" halign=\"left\">Tumor Volume (mm3)</th>\n",
       "    </tr>\n",
       "    <tr>\n",
       "      <th></th>\n",
       "      <th>mean</th>\n",
       "      <th>median</th>\n",
       "      <th>var</th>\n",
       "      <th>sem</th>\n",
       "    </tr>\n",
       "    <tr>\n",
       "      <th>Drug Regimen</th>\n",
       "      <th></th>\n",
       "      <th></th>\n",
       "      <th></th>\n",
       "      <th></th>\n",
       "    </tr>\n",
       "  </thead>\n",
       "  <tbody>\n",
       "    <tr>\n",
       "      <th>Capomulin</th>\n",
       "      <td>40.675741</td>\n",
       "      <td>41.557809</td>\n",
       "      <td>24.947764</td>\n",
       "      <td>0.329346</td>\n",
       "    </tr>\n",
       "    <tr>\n",
       "      <th>Ceftamin</th>\n",
       "      <td>52.591172</td>\n",
       "      <td>51.776157</td>\n",
       "      <td>39.290177</td>\n",
       "      <td>0.469821</td>\n",
       "    </tr>\n",
       "    <tr>\n",
       "      <th>Infubinol</th>\n",
       "      <td>52.884795</td>\n",
       "      <td>51.820584</td>\n",
       "      <td>43.128684</td>\n",
       "      <td>0.492236</td>\n",
       "    </tr>\n",
       "    <tr>\n",
       "      <th>Ketapril</th>\n",
       "      <td>55.235638</td>\n",
       "      <td>53.698743</td>\n",
       "      <td>68.553577</td>\n",
       "      <td>0.603860</td>\n",
       "    </tr>\n",
       "    <tr>\n",
       "      <th>Naftisol</th>\n",
       "      <td>54.331565</td>\n",
       "      <td>52.509285</td>\n",
       "      <td>66.173479</td>\n",
       "      <td>0.596466</td>\n",
       "    </tr>\n",
       "    <tr>\n",
       "      <th>Placebo</th>\n",
       "      <td>54.033581</td>\n",
       "      <td>52.288934</td>\n",
       "      <td>61.168083</td>\n",
       "      <td>0.581331</td>\n",
       "    </tr>\n",
       "    <tr>\n",
       "      <th>Propriva</th>\n",
       "      <td>52.320930</td>\n",
       "      <td>50.446266</td>\n",
       "      <td>43.852013</td>\n",
       "      <td>0.544332</td>\n",
       "    </tr>\n",
       "    <tr>\n",
       "      <th>Ramicane</th>\n",
       "      <td>40.216745</td>\n",
       "      <td>40.673236</td>\n",
       "      <td>23.486704</td>\n",
       "      <td>0.320955</td>\n",
       "    </tr>\n",
       "    <tr>\n",
       "      <th>Stelasyn</th>\n",
       "      <td>54.233149</td>\n",
       "      <td>52.431737</td>\n",
       "      <td>59.450562</td>\n",
       "      <td>0.573111</td>\n",
       "    </tr>\n",
       "    <tr>\n",
       "      <th>Zoniferol</th>\n",
       "      <td>53.236507</td>\n",
       "      <td>51.818479</td>\n",
       "      <td>48.533355</td>\n",
       "      <td>0.516398</td>\n",
       "    </tr>\n",
       "  </tbody>\n",
       "</table>\n",
       "</div>"
      ],
      "text/plain": [
       "             Tumor Volume (mm3)                                \n",
       "                           mean     median        var       sem\n",
       "Drug Regimen                                                   \n",
       "Capomulin             40.675741  41.557809  24.947764  0.329346\n",
       "Ceftamin              52.591172  51.776157  39.290177  0.469821\n",
       "Infubinol             52.884795  51.820584  43.128684  0.492236\n",
       "Ketapril              55.235638  53.698743  68.553577  0.603860\n",
       "Naftisol              54.331565  52.509285  66.173479  0.596466\n",
       "Placebo               54.033581  52.288934  61.168083  0.581331\n",
       "Propriva              52.320930  50.446266  43.852013  0.544332\n",
       "Ramicane              40.216745  40.673236  23.486704  0.320955\n",
       "Stelasyn              54.233149  52.431737  59.450562  0.573111\n",
       "Zoniferol             53.236507  51.818479  48.533355  0.516398"
      ]
     },
     "execution_count": 9,
     "metadata": {},
     "output_type": "execute_result"
    }
   ],
   "source": [
    "# Using the aggregation method, produce the same summary statistics in a single line\n",
    "\n",
    "tumor_stats = data.groupby('Drug Regimen').agg({'Tumor Volume (mm3)': ['mean','median','var','sem']})\n",
    "tumor_stats"
   ]
  },
  {
   "cell_type": "code",
   "execution_count": null,
   "metadata": {},
   "outputs": [],
   "source": []
  },
  {
   "cell_type": "markdown",
   "metadata": {},
   "source": [
    "## Bar and Pie Charts"
   ]
  },
  {
   "cell_type": "code",
   "execution_count": 10,
   "metadata": {},
   "outputs": [
    {
     "data": {
      "image/png": "[encoded data removed]",
      "text/plain": [
       "<Figure size 432x288 with 1 Axes>"
      ]
     },
     "metadata": {
      "needs_background": "light"
     },
     "output_type": "display_data"
    }
   ],
   "source": [
    "# Generate a bar plot showing the total number of measurements taken on each drug regimen using pandas.\n",
    "\n",
    "counts = data['Drug Regimen'].value_counts()\n",
    "counts.plot(kind=\"bar\", color=\"b\", align=\"center\")\n",
    "plt.title(\"Measurements Taken Per Drug Regimen\")\n",
    "plt.xlabel(\"Count\")\n",
    "plt.xticks(rotation=90)\n",
    "plt.ylabel(\"Drug Regimen\")\n",
    "plt.show()"
   ]
  },
  {
   "cell_type": "code",
   "execution_count": 11,
   "metadata": {},
   "outputs": [
    {
     "data": {
      "image/png": "[encoded data removed]",
      "text/plain": [
       "<Figure size 432x288 with 1 Axes>"
      ]
     },
     "metadata": {
      "needs_background": "light"
     },
     "output_type": "display_data"
    }
   ],
   "source": [
    "# Generate a bar plot showing the total number of measurements taken on each drug regimen using pyplot.\n",
    "\n",
    "counts = data['Drug Regimen'].value_counts()\n",
    "plt.bar(counts.index.values, counts.values, color=\"b\", align=\"center\")\n",
    "plt.title(\"Measurements Taken Per Drug Regimen\")\n",
    "plt.xlabel(\"Count\")\n",
    "plt.xticks(rotation=90)\n",
    "plt.ylabel(\"Drug Regimen\")\n",
    "plt.show()"
   ]
  },
  {
   "cell_type": "code",
   "execution_count": 12,
   "metadata": {},
   "outputs": [
    {
     "data": {
      "text/plain": [
       "<matplotlib.axes._subplots.AxesSubplot at 0x7fe52e723470>"
      ]
     },
     "execution_count": 12,
     "metadata": {},
     "output_type": "execute_result"
    },
    {
     "data": {
      "image/png": "[encoded data removed]",
      "text/plain": [
       "<Figure size 432x288 with 1 Axes>"
      ]
     },
     "metadata": {},
     "output_type": "display_data"
    }
   ],
   "source": [
    "# Generate a pie plot showing the distribution of female versus male mice using pandas\n",
    "\n",
    "sizes = data.Sex.value_counts()\n",
    "\n",
    "sizes.plot(kind=\"pie\", autopct=\"%1.1f%%\")"
   ]
  },
  {
   "cell_type": "code",
   "execution_count": 13,
   "metadata": {},
   "outputs": [
    {
     "data": {
      "text/plain": [
       "([<matplotlib.patches.Wedge at 0x7fe52faec208>,\n",
       "  <matplotlib.patches.Wedge at 0x7fe52faecb70>],\n",
       " [Text(-0.7433500820741924, -0.942035379102235, 'Male'),\n",
       "  Text(0.6814042419013431, 0.8635324308437154, 'Female')],\n",
       " [Text(-0.4336208812099456, -0.549520637809637, '51.0%'),\n",
       "  Text(0.3716750410370962, 0.47101768955111745, '49.0%')])"
      ]
     },
     "execution_count": 13,
     "metadata": {},
     "output_type": "execute_result"
    },
    {
     "data": {
      "image/png": "[encoded data removed]",
      "text/plain": [
       "<Figure size 432x288 with 1 Axes>"
      ]
     },
     "metadata": {},
     "output_type": "display_data"
    }
   ],
   "source": [
    "# Generate a pie plot showing the distribution of female versus male mice using pyplot\n",
    "\n",
    "labels = [\"Male\", \"Female\"]\n",
    "\n",
    "male = data[data['Sex'] == 'Male']\n",
    "male_counts = len(male)\n",
    "female = data[data['Sex'] == 'Female']\n",
    "female_counts = len(female)\n",
    "\n",
    "sizes = [male_counts, female_counts]\n",
    "\n",
    "colors = [\"lightskyblue\", \"pink\"]\n",
    "\n",
    "explode = (0.1, 0)\n",
    "\n",
    "plt.pie(sizes, explode=explode, labels=labels, colors=colors,\n",
    "        autopct=\"%1.1f%%\", shadow=True, startangle=140)"
   ]
  },
  {
   "cell_type": "markdown",
   "metadata": {},
   "source": [
    "## Quartiles, Outliers and Boxplots"
   ]
  },
  {
   "cell_type": "code",
   "execution_count": 14,
   "metadata": {},
   "outputs": [
    {
     "data": {
      "text/html": [
       "<div>\n",
       "<style scoped>\n",
       "    .dataframe tbody tr th:only-of-type {\n",
       "        vertical-align: middle;\n",
       "    }\n",
       "\n",
       "    .dataframe tbody tr th {\n",
       "        vertical-align: top;\n",
       "    }\n",
       "\n",
       "    .dataframe thead th {\n",
       "        text-align: right;\n",
       "    }\n",
       "</style>\n",
       "<table border=\"1\" class=\"dataframe\">\n",
       "  <thead>\n",
       "    <tr style=\"text-align: right;\">\n",
       "      <th></th>\n",
       "      <th>Mouse ID</th>\n",
       "      <th>Timepoint</th>\n",
       "      <th>Drug Regimen</th>\n",
       "      <th>Sex</th>\n",
       "      <th>Age_months</th>\n",
       "      <th>Weight (g)</th>\n",
       "      <th>Tumor Volume (mm3)</th>\n",
       "      <th>Metastatic Sites</th>\n",
       "    </tr>\n",
       "  </thead>\n",
       "  <tbody>\n",
       "    <tr>\n",
       "      <th>0</th>\n",
       "      <td>k403</td>\n",
       "      <td>45</td>\n",
       "      <td>Ramicane</td>\n",
       "      <td>Male</td>\n",
       "      <td>21</td>\n",
       "      <td>16</td>\n",
       "      <td>22.050126</td>\n",
       "      <td>1</td>\n",
       "    </tr>\n",
       "    <tr>\n",
       "      <th>1</th>\n",
       "      <td>s185</td>\n",
       "      <td>45</td>\n",
       "      <td>Capomulin</td>\n",
       "      <td>Female</td>\n",
       "      <td>3</td>\n",
       "      <td>17</td>\n",
       "      <td>23.343598</td>\n",
       "      <td>1</td>\n",
       "    </tr>\n",
       "    <tr>\n",
       "      <th>2</th>\n",
       "      <td>x401</td>\n",
       "      <td>45</td>\n",
       "      <td>Capomulin</td>\n",
       "      <td>Female</td>\n",
       "      <td>16</td>\n",
       "      <td>15</td>\n",
       "      <td>28.484033</td>\n",
       "      <td>0</td>\n",
       "    </tr>\n",
       "    <tr>\n",
       "      <th>3</th>\n",
       "      <td>m601</td>\n",
       "      <td>45</td>\n",
       "      <td>Capomulin</td>\n",
       "      <td>Male</td>\n",
       "      <td>22</td>\n",
       "      <td>17</td>\n",
       "      <td>28.430964</td>\n",
       "      <td>1</td>\n",
       "    </tr>\n",
       "    <tr>\n",
       "      <th>4</th>\n",
       "      <td>g791</td>\n",
       "      <td>45</td>\n",
       "      <td>Ramicane</td>\n",
       "      <td>Male</td>\n",
       "      <td>11</td>\n",
       "      <td>16</td>\n",
       "      <td>29.128472</td>\n",
       "      <td>1</td>\n",
       "    </tr>\n",
       "  </tbody>\n",
       "</table>\n",
       "</div>"
      ],
      "text/plain": [
       "  Mouse ID  Timepoint Drug Regimen     Sex  Age_months  Weight (g)  \\\n",
       "0     k403         45     Ramicane    Male          21          16   \n",
       "1     s185         45    Capomulin  Female           3          17   \n",
       "2     x401         45    Capomulin  Female          16          15   \n",
       "3     m601         45    Capomulin    Male          22          17   \n",
       "4     g791         45     Ramicane    Male          11          16   \n",
       "\n",
       "   Tumor Volume (mm3)  Metastatic Sites  \n",
       "0           22.050126                 1  \n",
       "1           23.343598                 1  \n",
       "2           28.484033                 0  \n",
       "3           28.430964                 1  \n",
       "4           29.128472                 1  "
      ]
     },
     "execution_count": 14,
     "metadata": {},
     "output_type": "execute_result"
    }
   ],
   "source": [
    "# Calculate the final tumor volume of each mouse across four of the treatment regimens:  \n",
    "# Capomulin, Ramicane, Infubinol, and Ceftamin\n",
    "\n",
    "# Start by getting the last (greatest) timepoint for each mouse\n",
    "max_life = data.groupby([\"Mouse ID\"], sort=False)[\"Timepoint\"].max()\n",
    "max_life = max_life.reset_index()\n",
    "\n",
    "# Merge this group df with the original dataframe to get the tumor volume at the last timepoint\n",
    "data=max_life.merge(data,\n",
    "             how='left',\n",
    "            on=['Mouse ID','Timepoint'])\n",
    "\n",
    "data.head()"
   ]
  },
  {
   "cell_type": "code",
   "execution_count": 15,
   "metadata": {},
   "outputs": [
    {
     "name": "stdout",
     "output_type": "stream",
     "text": [
      "1      23.343598\n",
      "2      28.484033\n",
      "3      28.430964\n",
      "6      30.485985\n",
      "10     31.023923\n",
      "12     31.896238\n",
      "13     32.377357\n",
      "14     33.329098\n",
      "16     34.455298\n",
      "20     37.311846\n",
      "22     36.041047\n",
      "24     37.074024\n",
      "28     38.846876\n",
      "30     38.939633\n",
      "31     38.982878\n",
      "32     38.753265\n",
      "34     38.125164\n",
      "35     39.952347\n",
      "36     40.658124\n",
      "37     40.159220\n",
      "38     40.728578\n",
      "39     41.483008\n",
      "40     41.581521\n",
      "45     47.685963\n",
      "180    46.539206\n",
      "Name: Tumor Volume (mm3), dtype: float64\n",
      "The lower quartile of tumor volume is: 32.37735684\n",
      "The upper quartile of tumor volume is: 40.1592203\n",
      "The interquartile range of tumor volume is: 7.781863460000004\n",
      "The the median of tumor volume is: 38.125164399999996 \n",
      "Values below 20.70456164999999 could be outliers.\n",
      "Values above 51.83201549 could be outliers.\n",
      "52     62.999356\n",
      "65     45.000000\n",
      "66     56.057749\n",
      "68     55.742829\n",
      "97     48.722078\n",
      "110    47.784682\n",
      "117    61.849023\n",
      "121    68.923185\n",
      "132    67.748662\n",
      "133    57.918381\n",
      "134    46.784535\n",
      "135    59.851956\n",
      "138    64.299830\n",
      "154    59.741901\n",
      "170    61.433892\n",
      "174    64.192341\n",
      "194    45.000000\n",
      "198    52.925348\n",
      "199    45.000000\n",
      "215    67.527482\n",
      "227    45.000000\n",
      "231    64.634949\n",
      "234    61.386660\n",
      "240    68.594745\n",
      "241    64.729837\n",
      "Name: Tumor Volume (mm3), dtype: float64\n",
      "The lower quartile of tumor volume is: 48.72207785\n",
      "The upper quartile of tumor volume is: 64.29983003\n",
      "The interquartile range of tumor volume is: 15.577752179999997\n",
      "The the median of tumor volume is: 59.85195552 \n",
      "Values below 25.355449580000002 could be outliers.\n",
      "Values above 87.66645829999999 could be outliers.\n",
      "49     67.973419\n",
      "50     65.525743\n",
      "57     57.031862\n",
      "58     66.083066\n",
      "70     72.226731\n",
      "74     36.321346\n",
      "82     60.969711\n",
      "90     62.435404\n",
      "95     60.918767\n",
      "111    67.289621\n",
      "123    66.196912\n",
      "127    62.117279\n",
      "145    47.010364\n",
      "149    60.165180\n",
      "161    55.629428\n",
      "162    45.699331\n",
      "173    54.656549\n",
      "184    55.650681\n",
      "205    46.250112\n",
      "208    54.048608\n",
      "210    51.542431\n",
      "217    50.005138\n",
      "222    58.268442\n",
      "236    67.685569\n",
      "245    62.754451\n",
      "Name: Tumor Volume (mm3), dtype: float64\n",
      "The lower quartile of tumor volume is: 54.04860769\n",
      "The upper quartile of tumor volume is: 65.52574285\n",
      "The interquartile range of tumor volume is: 11.477135160000003\n",
      "The the median of tumor volume is: 60.16518046 \n",
      "Values below 36.83290494999999 could be outliers.\n",
      "Values above 82.74144559000001 could be outliers.\n",
      "55     49.783419\n",
      "77     58.046569\n",
      "80     62.175705\n",
      "81     65.415955\n",
      "86     60.233733\n",
      "94     48.194578\n",
      "99     45.000000\n",
      "101    71.905117\n",
      "103    69.872251\n",
      "107    74.104086\n",
      "109    45.000000\n",
      "122    73.715619\n",
      "131    50.659581\n",
      "143    69.253503\n",
      "144    73.901399\n",
      "152    66.229606\n",
      "156    78.567014\n",
      "165    64.487812\n",
      "167    75.294936\n",
      "172    51.236606\n",
      "200    66.268801\n",
      "203    56.720095\n",
      "207    63.189432\n",
      "219    67.989530\n",
      "237    62.909441\n",
      "Name: Tumor Volume (mm3), dtype: float64\n",
      "The lower quartile of tumor volume is: 56.72009545\n",
      "The upper quartile of tumor volume is: 69.87225079\n",
      "The interquartile range of tumor volume is: 13.152155339999993\n",
      "The the median of tumor volume is: 64.48781246 \n",
      "Values below 36.99186244000001 could be outliers.\n",
      "Values above 89.60048379999998 could be outliers.\n"
     ]
    }
   ],
   "source": [
    "# Put treatments into a list for for loop (and later for plot labels)\n",
    "regimen_list = [\"Capomulin\", \"Ceftamin\", \"Infubinol\", \"Ketapril\"]\n",
    "\n",
    "# Create empty list to fill with tumor vol data (for plotting)\n",
    "vol_list = []\n",
    "\n",
    "# Calculate the IQR and quantitatively determine if there are any potential outliers. \n",
    "for regimen in regimen_list:\n",
    "    \n",
    "    # Locate the rows which contain mice on each drug and get the tumor volumes\n",
    "    tumor_vol = data.loc[data[\"Drug Regimen\"] == regimen, 'Tumor Volume (mm3)']\n",
    "    \n",
    "    # add subset \n",
    "    vol_list.append(tumor_vol)\n",
    "    \n",
    "    print(tumor_vol)\n",
    "    \n",
    "    # Determine outliers using upper and lower bounds\n",
    "    \n",
    "    quartiles = tumor_vol.quantile([.25,.5,.75])\n",
    "    lowerq = quartiles[0.25]\n",
    "    upperq = quartiles[0.75]\n",
    "    iqr = upperq-lowerq\n",
    "    \n",
    "\n",
    "\n",
    "    print(f\"The lower quartile of tumor volume is: {lowerq}\")\n",
    "    print(f\"The upper quartile of tumor volume is: {upperq}\")\n",
    "    print(f\"The interquartile range of tumor volume is: {iqr}\")\n",
    "    print(f\"The the median of tumor volume is: {quartiles[0.5]} \")\n",
    "\n",
    "    lower_bound = lowerq - (1.5*iqr)\n",
    "    upper_bound = upperq + (1.5*iqr)\n",
    "    print(f\"Values below {lower_bound} could be outliers.\")\n",
    "    print(f\"Values above {upper_bound} could be outliers.\")\n",
    "    "
   ]
  },
  {
   "cell_type": "code",
   "execution_count": 16,
   "metadata": {},
   "outputs": [
    {
     "data": {
      "image/png": "[encoded data removed]",
      "text/plain": [
       "<Figure size 432x288 with 1 Axes>"
      ]
     },
     "metadata": {
      "needs_background": "light"
     },
     "output_type": "display_data"
    }
   ],
   "source": [
    "# Generate a box plot of the final tumor volume of each mouse across four regimens of interest\n",
    "\n",
    "\n",
    "outliers = dict(markerfacecolor='blue')\n",
    "plt.boxplot(vol_list, labels = regimen_list, flierprops=outliers)\n",
    "plt.show()"
   ]
  },
  {
   "cell_type": "markdown",
   "metadata": {},
   "source": [
    "## Line and Scatter Plots"
   ]
  },
  {
   "cell_type": "code",
   "execution_count": 30,
   "metadata": {},
   "outputs": [
    {
     "data": {
      "image/png": "[encoded data removed]",
      "text/plain": [
       "<Figure size 432x288 with 1 Axes>"
      ]
     },
     "metadata": {
      "needs_background": "light"
     },
     "output_type": "display_data"
    }
   ],
   "source": [
    "# Generate a line plot of tumor volume vs. time point for a mouse treated with Capomulin\n",
    "\n",
    "mouse = data.loc[data['Mouse ID'] == 'k403']\n",
    "ramicane = mouse.loc[mouse['Drug Regimen'] == 'Ramicane']\n",
    "\n",
    "plt.plot(ramicane['Timepoint'],ramicane['Tumor Volume (mm3)'])\n",
    "\n",
    "plt.xlabel('Timepoint')\n",
    "plt.ylabel('Tumor Volume (mm3)')\n",
    "plt.title('Treatment of Mouse k403 with Ramicane Drug')\n",
    "plt.show()"
   ]
  },
  {
   "cell_type": "code",
   "execution_count": 36,
   "metadata": {},
   "outputs": [
    {
     "data": {
      "image/png": "[encoded data removed]",
      "text/plain": [
       "<Figure size 432x288 with 1 Axes>"
      ]
     },
     "metadata": {
      "needs_background": "light"
     },
     "output_type": "display_data"
    }
   ],
   "source": [
    "# Generate a scatter plot of average tumor volume vs. mouse weight for the Capomulin regimen\n",
    "capomulin = data.loc[data['Drug Regimen'] == 'Capomulin']\n",
    "capomulin_av = capomulin.groupby(['Mouse ID']).mean()\n",
    "\n",
    "plt.scatter(capomulin_av['Weight (g)'],capomulin_av['Tumor Volume (mm3)'])\n",
    "\n",
    "plt.xlabel('Mouse Weight')\n",
    "plt.ylabel('Average Tumor Volume (mm3)')\n",
    "plt.show()"
   ]
  },
  {
   "cell_type": "markdown",
   "metadata": {},
   "source": [
    "## Correlation and Regression"
   ]
  },
  {
   "cell_type": "code",
   "execution_count": 41,
   "metadata": {},
   "outputs": [
    {
     "name": "stdout",
     "output_type": "stream",
     "text": [
      "The correlation between both factors is 0.88\n"
     ]
    },
    {
     "ename": "TypeError",
     "evalue": "'LinregressResult' object is not callable",
     "output_type": "error",
     "traceback": [
      "\u001b[0;31m---------------------------------------------------------------------------\u001b[0m",
      "\u001b[0;31mTypeError\u001b[0m                                 Traceback (most recent call last)",
      "\u001b[0;32m<ipython-input-41-3bd90e43d025>\u001b[0m in \u001b[0;36m<module>\u001b[0;34m\u001b[0m\n\u001b[1;32m      8\u001b[0m \u001b[0mx_values\u001b[0m \u001b[0;34m=\u001b[0m \u001b[0mcapomulin_av\u001b[0m\u001b[0;34m[\u001b[0m\u001b[0;34m'Weight (g)'\u001b[0m\u001b[0;34m]\u001b[0m\u001b[0;34m\u001b[0m\u001b[0;34m\u001b[0m\u001b[0m\n\u001b[1;32m      9\u001b[0m \u001b[0my_values\u001b[0m \u001b[0;34m=\u001b[0m \u001b[0mcapomulin_av\u001b[0m\u001b[0;34m[\u001b[0m\u001b[0;34m'Tumor Volume (mm3)'\u001b[0m\u001b[0;34m]\u001b[0m\u001b[0;34m\u001b[0m\u001b[0;34m\u001b[0m\u001b[0m\n\u001b[0;32m---> 10\u001b[0;31m \u001b[0;34m(\u001b[0m\u001b[0mslope\u001b[0m\u001b[0;34m,\u001b[0m \u001b[0mintercept\u001b[0m\u001b[0;34m,\u001b[0m \u001b[0mrvalue\u001b[0m\u001b[0;34m,\u001b[0m \u001b[0mpvalue\u001b[0m\u001b[0;34m,\u001b[0m \u001b[0mstderr\u001b[0m\u001b[0;34m)\u001b[0m \u001b[0;34m=\u001b[0m \u001b[0mlinear\u001b[0m\u001b[0;34m(\u001b[0m\u001b[0mx_values\u001b[0m\u001b[0;34m,\u001b[0m \u001b[0my_values\u001b[0m\u001b[0;34m)\u001b[0m\u001b[0;34m\u001b[0m\u001b[0;34m\u001b[0m\u001b[0m\n\u001b[0m\u001b[1;32m     11\u001b[0m \u001b[0mregress_values\u001b[0m \u001b[0;34m=\u001b[0m \u001b[0mx_values\u001b[0m \u001b[0;34m*\u001b[0m \u001b[0mslope\u001b[0m \u001b[0;34m+\u001b[0m \u001b[0mintercept\u001b[0m\u001b[0;34m\u001b[0m\u001b[0;34m\u001b[0m\u001b[0m\n\u001b[1;32m     12\u001b[0m \u001b[0mline_eq\u001b[0m \u001b[0;34m=\u001b[0m \u001b[0;34m\"y = \"\u001b[0m \u001b[0;34m+\u001b[0m \u001b[0mstr\u001b[0m\u001b[0;34m(\u001b[0m\u001b[0mround\u001b[0m\u001b[0;34m(\u001b[0m\u001b[0mslope\u001b[0m\u001b[0;34m,\u001b[0m\u001b[0;36m2\u001b[0m\u001b[0;34m)\u001b[0m\u001b[0;34m)\u001b[0m \u001b[0;34m+\u001b[0m \u001b[0;34m\"x + \"\u001b[0m \u001b[0;34m+\u001b[0m \u001b[0mstr\u001b[0m\u001b[0;34m(\u001b[0m\u001b[0mround\u001b[0m\u001b[0;34m(\u001b[0m\u001b[0mintercept\u001b[0m\u001b[0;34m,\u001b[0m\u001b[0;36m2\u001b[0m\u001b[0;34m)\u001b[0m\u001b[0;34m)\u001b[0m\u001b[0;34m\u001b[0m\u001b[0;34m\u001b[0m\u001b[0m\n",
      "\u001b[0;31mTypeError\u001b[0m: 'LinregressResult' object is not callable"
     ]
    }
   ],
   "source": [
    "# Calculate the correlation coefficient and linear regression model \n",
    "# for mouse weight and average tumor volume for the Capomulin regimen\n",
    "\n",
    "correlation = st.pearsonr(capomulin_av['Weight (g)'], capomulin_av['Tumor Volume (mm3)'])\n",
    "print(f\"The correlation between both factors is {round(correlation[0],2)}\")\n",
    "linear = st.linregress(capomulin_av['Weight (g)'], capomulin_av['Tumor Volume (mm3)'])\n",
    "\n",
    "x_values = capomulin_av['Weight (g)']\n",
    "y_values = capomulin_av['Tumor Volume (mm3)']\n",
    "(slope, intercept, rvalue, pvalue, stderr) = linear(x_values, y_values)\n",
    "regress_values = x_values * slope + intercept\n",
    "line_eq = \"y = \" + str(round(slope,2)) + \"x + \" + str(round(intercept,2))\n",
    "plt.scatter(x_values,y_values)\n",
    "plt.plot(x_values,regress_values,\"r-\")\n",
    "plt.annotate(line_eq,(6,10),fontsize=15,color=\"red\")\n",
    "plt.xlabel('Mouse Weight')\n",
    "plt.ylabel('Average Tumor Volume')\n",
    "plt.show()\n",
    "\n",
    "plt.show()"
   ]
  },
  {
   "cell_type": "code",
   "execution_count": null,
   "metadata": {},
   "outputs": [],
   "source": []
  }
 ],
 "metadata": {
  "anaconda-cloud": {},
  "kernelspec": {
   "display_name": "Python [conda env:PythonData] *",
   "language": "python",
   "name": "conda-env-PythonData-py"
  },
  "language_info": {
   "codemirror_mode": {
    "name": "ipython",
    "version": 3
   },
   "file_extension": ".py",
   "mimetype": "text/x-python",
   "name": "python",
   "nbconvert_exporter": "python",
   "pygments_lexer": "ipython3",
   "version": "3.6.10"
  }
 },
 "nbformat": 4,
 "nbformat_minor": 4
}
